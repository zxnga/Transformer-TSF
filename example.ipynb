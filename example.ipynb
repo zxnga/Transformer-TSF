{
 "cells": [
  {
   "cell_type": "code",
   "execution_count": null,
   "metadata": {},
   "outputs": [],
   "source": [
    "from sklearn.model_selection import train_test_split\n",
    "import matplotlib.pyplot as plt\n",
    "import numpy as np\n",
    "\n",
    "from gluonts.time_feature import (\n",
    "    get_lags_for_frequency, \n",
    "    time_features_from_frequency_str\n",
    ")\n",
    "\n",
    "from transformers import TimeSeriesTransformerConfig\n",
    "\n",
    "from src.utils import create_test_dataset\n",
    "from src import ts_transformer as tsf"
   ]
  },
  {
   "cell_type": "markdown",
   "metadata": {},
   "source": [
    "# Split dataset"
   ]
  },
  {
   "cell_type": "code",
   "execution_count": null,
   "metadata": {},
   "outputs": [],
   "source": [
    "# Assumes pandas.DataFrame <data> in the following format:\n",
    "# | target | start | feat_static_cat | feat_dynamic_real | item_id |"
   ]
  },
  {
   "cell_type": "code",
   "execution_count": null,
   "metadata": {},
   "outputs": [],
   "source": [
    "context_length = 24\n",
    "prediction_length = 48\n",
    "\n",
    "freq = '1H'\n",
    "\n",
    "transformer_config = {\n",
    "    'prediction_length': prediction_length,\n",
    "    'context_length': prediction_length,\n",
    "    'num_static_categorical_features': 3,\n",
    "    'cardinality': [52,3,4],\n",
    "    'embedding_dimension': [2,2,2],\n",
    "    'encoder_layers': 4,\n",
    "    'decoder_layers': 4,\n",
    "    'd_model': 32,\n",
    "}"
   ]
  },
  {
   "cell_type": "code",
   "execution_count": null,
   "metadata": {},
   "outputs": [],
   "source": [
    "train_df, test_df = train_test_split(data, test_size=0.2, random_state=42)\n",
    "train_df = train_df.reset_index(drop=True)\n",
    "\n",
    "#need to split the original series into series of length context+prediction\n",
    "test_df = test_df.reset_index(drop=True)\n",
    "new_test_df = create_test_dataset(test_df, context_length+prediction_length)\n",
    "\n",
    "#get a fraction\n",
    "frac_test_df = new_test_df.sample(frac=0.1, random_state=42)"
   ]
  },
  {
   "cell_type": "markdown",
   "metadata": {},
   "source": [
    "# Training"
   ]
  },
  {
   "cell_type": "code",
   "execution_count": null,
   "metadata": {},
   "outputs": [],
   "source": [
    "batch_size = 32\n",
    "num_batches_per_epoch = 16\n",
    "epochs = 400"
   ]
  },
  {
   "cell_type": "code",
   "execution_count": null,
   "metadata": {},
   "outputs": [],
   "source": [
    "transformer, train_dataloader, test_dataloader, test_data = tsf.setup_training(\n",
    "    train_df=train_df,\n",
    "    test_df=frac_test_df,\n",
    "    freq=freq,\n",
    "    batch_size = batch_size,\n",
    "    num_batches_per_epoch = num_batches_per_epoch,\n",
    "    transformer_config=transformer_config\n",
    ")"
   ]
  },
  {
   "cell_type": "code",
   "execution_count": null,
   "metadata": {},
   "outputs": [],
   "source": [
    "transformer, list_loss = tsf.train(transformer, train_dataloader, epochs)"
   ]
  },
  {
   "cell_type": "code",
   "execution_count": null,
   "metadata": {},
   "outputs": [],
   "source": [
    "plt.plot(list_loss)"
   ]
  },
  {
   "cell_type": "markdown",
   "metadata": {},
   "source": [
    "# Evaluate"
   ]
  },
  {
   "cell_type": "code",
   "execution_count": null,
   "metadata": {},
   "outputs": [],
   "source": [
    "mase, smape = tsf.evaluate(\n",
    "    test_data,\n",
    "    forecasts,\n",
    "    transformer_config['prediction_length'],\n",
    "    freq)\n",
    "\n",
    "print(f\"MASE: {np.mean(mase)}\")\n",
    "\n",
    "print(f\"sMAPE: {np.mean(smape)}\")"
   ]
  },
  {
   "cell_type": "code",
   "execution_count": null,
   "metadata": {},
   "outputs": [],
   "source": [
    "plt.scatter(mase, smape, alpha=0.3)\n",
    "plt.xlabel(\"MASE\")\n",
    "plt.ylabel(\"sMAPE\")\n",
    "plt.show()"
   ]
  },
  {
   "cell_type": "code",
   "execution_count": null,
   "metadata": {},
   "outputs": [],
   "source": [
    "plot(17, test_data, forecasts, prediction_length)"
   ]
  }
 ],
 "metadata": {
  "language_info": {
   "name": "python"
  }
 },
 "nbformat": 4,
 "nbformat_minor": 2
}
