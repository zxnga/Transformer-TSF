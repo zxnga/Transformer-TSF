{
 "cells": [
  {
   "cell_type": "code",
   "execution_count": null,
   "metadata": {},
   "outputs": [],
   "source": [
    "import sys\n",
    "import os\n",
    "sys.path.append(os.path.abspath(os.path.join(os.getcwd(), '..')))"
   ]
  },
  {
   "cell_type": "code",
   "execution_count": null,
   "metadata": {},
   "outputs": [],
   "source": [
    "from sklearn.model_selection import train_test_split\n",
    "import matplotlib.pyplot as plt\n",
    "import torch.nn as nn\n",
    "import torch.optim as optim\n",
    "\n",
    "from datasets import Dataset\n",
    "from functools import partial\n",
    "from transformers import TimeSeriesTransformerConfig, TimeSeriesTransformerForPrediction\n",
    "\n",
    "from src.utils import transform_start_field\n",
    "from src import ts_transformer as tsf\n",
    "from src.inference.wrapper import TFWrapper\n",
    "from src.ts_transformer import create_train_dataloader\n",
    "\n",
    "from src.networks.classifier import RepresentationClassifier, train_classifier, train_joint_sequential"
   ]
  },
  {
   "cell_type": "markdown",
   "metadata": {},
   "source": [
    "# Get Dataset"
   ]
  },
  {
   "cell_type": "code",
   "execution_count": null,
   "metadata": {},
   "outputs": [],
   "source": [
    "#assumes a dataset <data>\n",
    "\n",
    "train_df, test_df = train_test_split(data, test_size=0.2, random_state=42)\n",
    "train_df = train_df.reset_index(drop=True)\n",
    "test_df = test_df.reset_index(drop=True)\n",
    "print(train_df.shape)"
   ]
  },
  {
   "cell_type": "markdown",
   "metadata": {},
   "source": [
    "# Load Model"
   ]
  },
  {
   "cell_type": "code",
   "execution_count": null,
   "metadata": {},
   "outputs": [],
   "source": [
    "# Loading a pretrained model, for training check train_test.ipynb\n",
    "\n",
    "freq = '1H'\n",
    "transformer = TimeSeriesTransformerForPrediction.from_pretrained(\n",
    "    \"<PATH_TO_WEIGHTS>\")\n",
    "model = TFWrapper(transformer, freq)"
   ]
  },
  {
   "cell_type": "markdown",
   "metadata": {},
   "source": [
    "# Classifier"
   ]
  },
  {
   "cell_type": "markdown",
   "metadata": {},
   "source": [
    "1. forward pass of all data in trained transformer\n",
    "2. extract latent space\n",
    "3. add corresponding label\n",
    "4. Jointly train projection network and classifier"
   ]
  },
  {
   "cell_type": "code",
   "execution_count": null,
   "metadata": {},
   "outputs": [],
   "source": [
    "train_df, valid_df = train_test_split(train_df, test_size=0.2, random_state=42)\n",
    "train_df = train_df.reset_index(drop=True)\n",
    "valid_df = valid_df.reset_index(drop=True)\n",
    "print(train_df.shape)"
   ]
  },
  {
   "cell_type": "code",
   "execution_count": null,
   "metadata": {},
   "outputs": [],
   "source": [
    "train_data = Dataset.from_pandas(train_df, preserve_index=False)\n",
    "train_data.set_transform(partial(transform_start_field, freq=freq))\n",
    "\n",
    "valid_data = Dataset.from_pandas(valid_df, preserve_index=False)\n",
    "valid_data.set_transform(partial(transform_start_field, freq=freq))"
   ]
  },
  {
   "cell_type": "code",
   "execution_count": null,
   "metadata": {},
   "outputs": [],
   "source": [
    "train_dataloader = create_train_dataloader(\n",
    "                            config=model.model_config,\n",
    "                            freq=model.freq,\n",
    "                            data=train_data,\n",
    "                            batch_size=32,\n",
    "                            num_batches_per_epoch=16)\n",
    "\n",
    "valid_dataloader = create_train_dataloader(\n",
    "                            config=model.model_config,\n",
    "                            freq=model.freq,\n",
    "                            data=valid_data,\n",
    "                            batch_size=32,\n",
    "                            num_batches_per_epoch=16)"
   ]
  },
  {
   "cell_type": "code",
   "execution_count": null,
   "metadata": {},
   "outputs": [],
   "source": [
    "num_epochs = 50\n",
    "\n",
    "# we classify the first static feature\n",
    "num_classes = len(list(set([i[0] for i in train_df['feat_static_cat']])))\n",
    "\n",
    "classifier = RepresentationClassifier(\n",
    "    encoder_hidden_size=model.model_config.d_model,\n",
    "    attn_hidden_dims= None, #[64, 32],\n",
    "    classifier_hidden_dims= None, #[64, 32],\n",
    "    num_classes=num_classes,\n",
    "    attn_activation=nn.Tanh,\n",
    "    classifier_activation=nn.ReLU,\n",
    "    attn_dropout=0,\n",
    "    classifier_dropout=0,\n",
    ")\n",
    "\n",
    "optimizer = optim.Adam(classifier.parameters(), lr=1e-3)\n",
    "criterion = nn.CrossEntropyLoss()"
   ]
  },
  {
   "cell_type": "code",
   "execution_count": null,
   "metadata": {},
   "outputs": [],
   "source": [
    "classifier, train_losses, valid_losses = train_classifier(\n",
    "    model=model.transformer,\n",
    "    classifier=classifier,\n",
    "    train_loader=train_dataloader,\n",
    "    optimizer=optimizer,\n",
    "    criterion=criterion,\n",
    "    device=model.transformer.device,\n",
    "    num_epochs=num_epochs,\n",
    "    valid_loader=valid_dataloader)"
   ]
  },
  {
   "cell_type": "code",
   "execution_count": null,
   "metadata": {},
   "outputs": [],
   "source": [
    "plt.figure(figsize=(6, 4))\n",
    "plt.plot(train_losses, label='Classifier Training Loss')\n",
    "plt.plot(valid_losses, label='Classifier Validation Loss')\n",
    "plt.xlabel('Epoch')\n",
    "plt.ylabel('Loss')\n",
    "plt.title('Training Loss Over Epochs')\n",
    "plt.legend()\n",
    "plt.show()"
   ]
  },
  {
   "cell_type": "markdown",
   "metadata": {},
   "source": [
    "# Joint Transformer Classifier Training"
   ]
  },
  {
   "cell_type": "code",
   "execution_count": null,
   "metadata": {},
   "outputs": [],
   "source": [
    "freq = '1H'\n",
    "\n",
    "transformer_config = {\n",
    "    'prediction_length': 24,\n",
    "    'context_length': 48,\n",
    "    'num_static_categorical_features': 2,\n",
    "    'cardinality': [3,4],\n",
    "    'embedding_dimension': [2,2],\n",
    "    'encoder_layers': 4,\n",
    "    'decoder_layers': 4,\n",
    "    'd_model': 32,\n",
    "    'output_hidden_states': True\n",
    "}\n",
    "\n",
    "transformer, train_dataloader = tsf.setup_training(\n",
    "    train_df=train_df,\n",
    "    freq=freq,\n",
    "    batch_size = 32,\n",
    "    num_batches_per_epoch = 16,\n",
    "    max_lags = len(train_df['target'][0]) - transformer_config['context_length'],\n",
    "    transformer_config=transformer_config\n",
    ")\n",
    "\n",
    "num_classes = len(list(set([i[0] for i in train_df['feat_static_cat']])))\n",
    "\n",
    "classifier = RepresentationClassifier(\n",
    "    encoder_hidden_size=transformer_config['d_model'],\n",
    "    attn_hidden_dims= None, #[64, 32],\n",
    "    classifier_hidden_dims= None, #[64, 32],\n",
    "    num_classes=num_classes,\n",
    "    attn_activation=nn.Tanh,\n",
    "    classifier_activation=nn.ReLU,\n",
    "    attn_dropout=0,\n",
    "    classifier_dropout=0,\n",
    ")\n",
    "\n",
    "optimizer_classifier = optim.Adam(classifier.parameters(), lr=1e-3)\n",
    "classifier_criterion = nn.CrossEntropyLoss()\n",
    "\n",
    "optimizer_ts = optim.AdamW(transformer.parameters(), lr=6e-4, betas=(0.9, 0.95), weight_decay=1e-1)"
   ]
  },
  {
   "cell_type": "code",
   "execution_count": null,
   "metadata": {},
   "outputs": [],
   "source": [
    "transformer, classifier, transformer_loss_history, classifier_loss_history = train_joint_sequential(\n",
    "    transformer,\n",
    "    classifier,\n",
    "    train_dataloader, # Single dataloader for both tasks\n",
    "    optimizer_classifier,\n",
    "    classifier_criterion,\n",
    "    optimizer_ts,\n",
    "    device=\"cuda\",\n",
    "    num_epochs=400)"
   ]
  },
  {
   "cell_type": "code",
   "execution_count": null,
   "metadata": {},
   "outputs": [],
   "source": [
    "epochs = range(1, len(transformer_loss_history) + 1)\n",
    "\n",
    "fig, ax1 = plt.subplots()\n",
    "\n",
    "ax1.plot(epochs, transformer_loss_history, 'b-', label='Transformer Loss')\n",
    "ax1.set_xlabel('Epochs')\n",
    "ax1.set_ylabel('Transformer Loss')\n",
    "ax1.tick_params(axis='y')\n",
    "\n",
    "ax2 = ax1.twinx()\n",
    "ax2.plot(epochs, classifier_loss_history, 'r-', label='Classifier Loss')\n",
    "ax2.set_ylabel('Classifier Loss')\n",
    "ax2.tick_params(axis='y')\n",
    "\n",
    "lines_1, labels_1 = ax1.get_legend_handles_labels()\n",
    "lines_2, labels_2 = ax2.get_legend_handles_labels()\n",
    "ax1.legend(lines_1 + lines_2, labels_1 + labels_2, loc='upper right')\n",
    "\n",
    "plt.title(\"Training Losses (Transformer and Classifier)\")\n",
    "plt.show()"
   ]
  },
  {
   "cell_type": "code",
   "execution_count": null,
   "metadata": {},
   "outputs": [],
   "source": []
  },
  {
   "cell_type": "code",
   "execution_count": null,
   "metadata": {},
   "outputs": [],
   "source": []
  }
 ],
 "metadata": {
  "kernelspec": {
   "display_name": ".tsenv",
   "language": "python",
   "name": "python3"
  },
  "language_info": {
   "codemirror_mode": {
    "name": "ipython",
    "version": 3
   },
   "file_extension": ".py",
   "mimetype": "text/x-python",
   "name": "python",
   "nbconvert_exporter": "python",
   "pygments_lexer": "ipython3",
   "version": "3.8.10"
  }
 },
 "nbformat": 4,
 "nbformat_minor": 2
}
