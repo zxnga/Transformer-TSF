{
 "cells": [
  {
   "cell_type": "code",
   "execution_count": null,
   "metadata": {},
   "outputs": [],
   "source": [
    "from sklearn.model_selection import train_test_split\n",
    "import matplotlib.pyplot as plt\n",
    "\n",
    "from transformers import TimeSeriesTransformerConfig\n",
    "\n",
    "from src import ts_transformer as tsf\n",
    "from src.inference.wrapper import TFWrapper\n",
    "from src.inference.monitor import EnsembleForecaster"
   ]
  },
  {
   "cell_type": "code",
   "execution_count": null,
   "metadata": {},
   "outputs": [],
   "source": [
    "#assumes a dataset <data>\n",
    "\n",
    "train_df, test_df = train_test_split(data, test_size=0.2, random_state=42)\n",
    "train_df = train_df.reset_index(drop=True)\n",
    "test_df = test_df.reset_index(drop=True)\n",
    "print(train_df.shape)"
   ]
  },
  {
   "cell_type": "code",
   "execution_count": null,
   "metadata": {},
   "outputs": [],
   "source": [
    "freq = '1H'\n",
    "\n",
    "transformer_config = {\n",
    "    'prediction_length': 24,\n",
    "    'context_length': 48,\n",
    "    'num_static_categorical_features': 2,\n",
    "    'cardinality': [3,4],\n",
    "    'embedding_dimension': [2,2],\n",
    "    'encoder_layers': 4,\n",
    "    'decoder_layers': 4,\n",
    "    'd_model': 32,\n",
    "}\n",
    "\n",
    "transformer, train_dataloader = tsf.setup_training(\n",
    "    train_df=train_df,\n",
    "    freq=freq,\n",
    "    batch_size = 32,\n",
    "    num_batches_per_epoch = 16,\n",
    "    max_lags = len(train_df['target'][0]) - transformer_config['context_length'],\n",
    "    transformer_config=transformer_config\n",
    ")\n",
    "\n",
    "transformer, list_loss = tsf.train(transformer, train_dataloader, 200)\n",
    "plt.plot(list_loss)"
   ]
  },
  {
   "cell_type": "code",
   "execution_count": null,
   "metadata": {},
   "outputs": [],
   "source": [
    "loss_monitor = EnsembleForecaster()\n",
    "model = TFWrapper(transformer, freq, loss_window=24)\n",
    "\n",
    "model.initialize_buffer(\n",
    "    context=test_df['target'][0][:model.full_context_length],\n",
    "    start=test_df['start'][0],\n",
    "    static_cat_features=test_df['feat_static_cat'][0]\n",
    ")"
   ]
  },
  {
   "cell_type": "code",
   "execution_count": null,
   "metadata": {},
   "outputs": [],
   "source": [
    "#7k 17min\n",
    "ensemble_losses = []\n",
    "for i in range(0, 7000):\n",
    "    model.predict()\n",
    "    model.ingest(test_df['target'][0][model.full_context_length+i])\n",
    "    \n",
    "    last_preds = model.get_last_points_predictions()\n",
    "    last_true = model.get_last_true_points()\n",
    "    indices, preds, uncert = zip(*last_preds)\n",
    "    _, loss = monitor.ensemble_loss(preds, uncert, last_true)\n",
    "    ensemble_losses.append(loss)\n",
    "\n",
    "plt.plot(ensemble_losses)\n",
    "    "
   ]
  }
 ],
 "metadata": {
  "kernelspec": {
   "display_name": ".tsenv",
   "language": "python",
   "name": "python3"
  },
  "language_info": {
   "codemirror_mode": {
    "name": "ipython",
    "version": 3
   },
   "file_extension": ".py",
   "mimetype": "text/x-python",
   "name": "python",
   "nbconvert_exporter": "python",
   "pygments_lexer": "ipython3",
   "version": "3.8.10"
  }
 },
 "nbformat": 4,
 "nbformat_minor": 2
}
