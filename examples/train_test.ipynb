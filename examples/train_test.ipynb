{
 "cells": [
  {
   "cell_type": "code",
   "execution_count": null,
   "metadata": {},
   "outputs": [],
   "source": [
    "from sklearn.model_selection import train_test_split\n",
    "import matplotlib.pyplot as plt\n",
    "import numpy as np\n",
    "\n",
    "from gluonts.time_feature import (\n",
    "    get_lags_for_frequency, \n",
    "    time_features_from_frequency_str\n",
    ")\n",
    "\n",
    "from transformers import TimeSeriesTransformerConfig\n",
    "\n",
    "from src.utils import create_test_dataset\n",
    "from src import ts_transformer as tsf\n",
    "from src.plotting import plot\n",
    "from src.compare.lstm import LSTMModel"
   ]
  },
  {
   "cell_type": "markdown",
   "metadata": {},
   "source": [
    "# Split dataset"
   ]
  },
  {
   "cell_type": "code",
   "execution_count": null,
   "metadata": {},
   "outputs": [],
   "source": [
    "# Assumes pandas.DataFrame <data> in the following format:\n",
    "# | target | start | feat_static_cat | feat_static_real | feat_dynamic_real | item_id |\n",
    "\n",
    "data.head()"
   ]
  },
  {
   "cell_type": "code",
   "execution_count": null,
   "metadata": {},
   "outputs": [],
   "source": [
    "prediction_length = 24\n",
    "context_length = 48\n",
    "\n",
    "freq = '1H'\n",
    "\n",
    "transformer_config = {\n",
    "    'prediction_length': prediction_length,\n",
    "    'context_length': context_length,\n",
    "    'num_static_categorical_features': 3,\n",
    "    'cardinality': [52,3,4],\n",
    "    'embedding_dimension': [2,2,2],\n",
    "    'encoder_layers': 4,\n",
    "    'decoder_layers': 4,\n",
    "    'd_model': 32,\n",
    "}"
   ]
  },
  {
   "cell_type": "code",
   "execution_count": null,
   "metadata": {},
   "outputs": [],
   "source": [
    "train_df, test_df = train_test_split(data, test_size=0.2, random_state=42)\n",
    "train_df = train_df.reset_index(drop=True)\n",
    "\n",
    "#need to have series of minimum length of context+max(lags_sequence)+prediction\n",
    "test_df = test_df.reset_index(drop=True)\n",
    "new_test_df = create_test_dataset(test_df, context_length+prediction_length)\n",
    "\n",
    "#get a fraction\n",
    "frac_test_df = new_test_df.sample(frac=0.1, random_state=42)"
   ]
  },
  {
   "cell_type": "markdown",
   "metadata": {},
   "source": [
    "# Transformer TSF"
   ]
  },
  {
   "cell_type": "markdown",
   "metadata": {},
   "source": [
    "## Training"
   ]
  },
  {
   "cell_type": "code",
   "execution_count": null,
   "metadata": {},
   "outputs": [],
   "source": [
    "batch_size = 32\n",
    "num_batches_per_epoch = 16\n",
    "epochs = 400"
   ]
  },
  {
   "cell_type": "code",
   "execution_count": null,
   "metadata": {},
   "outputs": [],
   "source": [
    "transformer, train_dataloader = tsf.setup_training(\n",
    "    train_df=train_df,\n",
    "    test_df=frac_test_df,\n",
    "    freq=freq,\n",
    "    batch_size = batch_size,\n",
    "    num_batches_per_epoch = num_batches_per_epoch,\n",
    "    transformer_config=transformer_config\n",
    ")"
   ]
  },
  {
   "cell_type": "code",
   "execution_count": null,
   "metadata": {},
   "outputs": [],
   "source": [
    "transformer, list_loss = tsf.train(transformer, train_dataloader, epochs)"
   ]
  },
  {
   "cell_type": "code",
   "execution_count": null,
   "metadata": {},
   "outputs": [],
   "source": [
    "plt.plot(list_loss)"
   ]
  },
  {
   "cell_type": "markdown",
   "metadata": {},
   "source": [
    "## Evaluate"
   ]
  },
  {
   "cell_type": "code",
   "execution_count": null,
   "metadata": {},
   "outputs": [],
   "source": [
    "test_dataloader, test_data = tsf.setup_testing_data(test_data)"
   ]
  },
  {
   "cell_type": "code",
   "execution_count": null,
   "metadata": {},
   "outputs": [],
   "source": [
    "forecasts = tsf.test(transformer, test_dataloader)"
   ]
  },
  {
   "cell_type": "code",
   "execution_count": null,
   "metadata": {},
   "outputs": [],
   "source": [
    "mase, smape = tsf.evaluate(\n",
    "    test_data,\n",
    "    forecasts,\n",
    "    transformer_config['prediction_length'],\n",
    "    freq)\n",
    "\n",
    "print(f\"MASE: {np.mean(mase)}\")\n",
    "\n",
    "print(f\"sMAPE: {np.mean(smape)}\")"
   ]
  },
  {
   "cell_type": "code",
   "execution_count": null,
   "metadata": {},
   "outputs": [],
   "source": [
    "plt.scatter(mase, smape, alpha=0.3)\n",
    "plt.xlabel(\"MASE\")\n",
    "plt.ylabel(\"sMAPE\")\n",
    "plt.show()"
   ]
  },
  {
   "cell_type": "code",
   "execution_count": null,
   "metadata": {},
   "outputs": [],
   "source": [
    "plot(0, test_data, forecasts, prediction_length)"
   ]
  },
  {
   "cell_type": "markdown",
   "metadata": {},
   "source": [
    "# LSTM"
   ]
  },
  {
   "cell_type": "markdown",
   "metadata": {},
   "source": [
    "We can compare the results to a basic LSTM model"
   ]
  },
  {
   "cell_type": "markdown",
   "metadata": {},
   "source": [
    "## Training"
   ]
  },
  {
   "cell_type": "code",
   "execution_count": null,
   "metadata": {},
   "outputs": [],
   "source": [
    "# Using same train_df as before\n",
    "lstm_data = np.array(train_df['target'].to_list())\n",
    "lstm_data.shape"
   ]
  },
  {
   "cell_type": "code",
   "execution_count": null,
   "metadata": {},
   "outputs": [],
   "source": [
    "X_all, y_all = [], []\n",
    "\n",
    "for series in scaled_series:\n",
    "    X, y = create_sequences(series, prediction_length, context_length)\n",
    "    X_all.append(X)\n",
    "    y_all.append(y)\n",
    "\n",
    "# Combine all sequences from different sensors into one dataset\n",
    "X_combined = np.concatenate(X_all, axis=0)\n",
    "y_combined = np.concatenate(y_all, axis=0)\n",
    "\n",
    "X_combined, y_combined = shuffle(X_combined, y_combined, random_state=42)"
   ]
  },
  {
   "cell_type": "code",
   "execution_count": null,
   "metadata": {},
   "outputs": [],
   "source": [
    "X_train = np.expand_dims(X_combined, axis=2)\n",
    "X_train = torch.Tensor(X_train)\n",
    "\n",
    "y_train = torch.Tensor(y_combined)"
   ]
  },
  {
   "cell_type": "code",
   "execution_count": null,
   "metadata": {},
   "outputs": [],
   "source": [
    "tensor_data = TensorDataset(X_train, y_train)\n",
    "train_loader = DataLoader(tensor_data, batch_size=batch_size, shuffle=True)"
   ]
  },
  {
   "cell_type": "code",
   "execution_count": null,
   "metadata": {},
   "outputs": [],
   "source": [
    "input_size = 1  # Univariate\n",
    "hidden_layer_size = 50 \n",
    "num_layers = 2\n",
    "\n",
    "lstm = LSTMModel(input_size, hidden_layer_size, prediction_length, num_layers)\n",
    "lstm.to(lstm.device)\n",
    "\n",
    "loss_function = nn.MSELoss()\n",
    "optimizer = torch.optim.Adam(lstm.parameters(), lr=0.001)\n"
   ]
  },
  {
   "cell_type": "code",
   "execution_count": null,
   "metadata": {},
   "outputs": [],
   "source": [
    "#5min\n",
    "epochs = 200  # Example number of epochs\n",
    "epoch_losses = []\n",
    "\n",
    "for epoch in range(epochs):\n",
    "    lstm.train()  # Set the model to training mode\n",
    "    running_loss = 0.0\n",
    "    \n",
    "    for inputs, labels in train_loader:\n",
    "        # Move the batch of inputs and labels to the appropriate device\n",
    "        inputs, labels = inputs.to(lstm.device), labels.to(lstm.device)\n",
    "\n",
    "        optimizer.zero_grad()  # Clear the gradients in the optimizer\n",
    "        outputs = lstm(inputs)\n",
    "        loss = loss_function(outputs, labels)\n",
    "        loss.backward()\n",
    "        optimizer.step()\n",
    "        \n",
    "        running_loss += loss.item()\n",
    "    \n",
    "    # Print average loss for the epoch\n",
    "    avg_loss = running_loss / len(train_loader)\n",
    "    epoch_losses.append(avg_loss)\n",
    "    if epoch % 5 == 0:\n",
    "        print(f'Epoch {epoch+1}/{epochs}, Loss: {avg_loss:.4f}')"
   ]
  },
  {
   "cell_type": "code",
   "execution_count": null,
   "metadata": {},
   "outputs": [],
   "source": [
    "plt.figure(figsize=(6, 4))\n",
    "plt.plot(epoch_losses, label='LSTM Training Loss')\n",
    "plt.xlabel('Epoch')\n",
    "plt.ylabel('Loss')\n",
    "plt.title('Training Loss Over Epochs')\n",
    "plt.legend()\n",
    "plt.show()\n"
   ]
  },
  {
   "cell_type": "markdown",
   "metadata": {},
   "source": [
    "## Testing"
   ]
  },
  {
   "cell_type": "code",
   "execution_count": null,
   "metadata": {},
   "outputs": [],
   "source": [
    "test_lstm = np.array(frac_test_df['target'].to_list())\n",
    "\n",
    "#split in context and prediction\n",
    "X_test = test_lstm[:, :context_length]\n",
    "y_test = test_lstm[:, context_length:]\n",
    "\n",
    "X_test = np.expand_dims(X_test, axis=2)\n",
    "X_test = torch.Tensor(X_test)\n",
    "\n",
    "y_test = torch.Tensor(y_test)"
   ]
  },
  {
   "cell_type": "code",
   "execution_count": null,
   "metadata": {},
   "outputs": [],
   "source": [
    "tensor_data = TensorDataset(X_test, y_test)\n",
    "test_loader = DataLoader(tensor_data, batch_size=batch_size, shuffle=False)"
   ]
  },
  {
   "cell_type": "code",
   "execution_count": null,
   "metadata": {},
   "outputs": [],
   "source": [
    "lstm.eval()\n",
    "\n",
    "forecasts_lstm = []\n",
    "with torch.no_grad():\n",
    "    for inputs, labels in test_loader:\n",
    "        inputs, labels = inputs.to(lstm.device), labels.to(lstm.device)\n",
    "        outputs = lstm(inputs)\n",
    "        outputs = outputs.detach().cpu().numpy()\n",
    "        forecasts_lstm.append(outputs)\n",
    "\n",
    "forecasts_lstm = np.vstack(forecasts_lstm)"
   ]
  },
  {
   "cell_type": "code",
   "execution_count": null,
   "metadata": {},
   "outputs": [],
   "source": [
    "#1min\n",
    "mase_metric = load(\"evaluate-metric/mase\")\n",
    "smape_metric = load(\"evaluate-metric/smape\")\n",
    "\n",
    "mase_metrics_lstm = []\n",
    "smape_metrics_lstm = []\n",
    "for item_id, (input_, true) in enumerate(tensor_data):\n",
    "    mase = mase_metric.compute(\n",
    "        predictions=forecasts_lstm[item_id], \n",
    "        references=np.array(true),\n",
    "        training=np.array(input_), \n",
    "        periodicity=get_seasonality(freq))\n",
    "    mase_metrics_lstm.append(mase[\"mase\"])\n",
    "    \n",
    "    smape = smape_metric.compute(\n",
    "        predictions=forecasts_lstm[item_id], \n",
    "        references=np.array(true), \n",
    "    )\n",
    "    smape_metrics_lstm.append(smape[\"smape\"])\n",
    "\n",
    "    if item_id % 100 == 0:\n",
    "        print(item_id)\n"
   ]
  },
  {
   "cell_type": "code",
   "execution_count": null,
   "metadata": {},
   "outputs": [],
   "source": [
    "print(f\"MASE: {np.mean(mase_metrics_lstm)}\")\n",
    "\n",
    "print(f\"sMAPE: {np.mean(smape_metrics_lstm)}\")\n",
    "\n",
    "plt.scatter(mase_metrics_lstm, smape_metrics_lstm, alpha=0.3, color='red', label='LSTM')\n",
    "plt.scatter(mase_metrics_transformer, smape_metrics_transformer, alpha=0.15, color='blue', label='Transformer')\n",
    "plt.xlabel(\"MASE\")\n",
    "plt.ylabel(\"sMAPE\")\n",
    "plt.legend()\n",
    "plt.show()"
   ]
  },
  {
   "cell_type": "code",
   "execution_count": null,
   "metadata": {},
   "outputs": [],
   "source": [
    "plt.figure(figsize=(6, 4))\n",
    "\n",
    "ax1 = plt.gca()\n",
    "line1, = ax1.plot(epoch_losses, label='LSTM RMSE Training Loss', color='r')\n",
    "ax1.set_xlabel('Epoch')\n",
    "ax1.set_ylabel('LSTM RMSE Training Loss')\n",
    "\n",
    "ax2 = ax1.twinx()\n",
    "line2, = ax2.plot(list_loss, label='Transformer NLL Training Loss', color='b')\n",
    "ax2.set_ylabel('Transformer NLL Training Loss')\n",
    "\n",
    "lines = [line1, line2]\n",
    "labels = [line.get_label() for line in lines]\n",
    "\n",
    "ax1.legend(lines, labels, loc='upper right')"
   ]
  },
  {
   "cell_type": "markdown",
   "metadata": {},
   "source": []
  }
 ],
 "metadata": {
  "kernelspec": {
   "display_name": ".tsenv",
   "language": "python",
   "name": "python3"
  },
  "language_info": {
   "codemirror_mode": {
    "name": "ipython",
    "version": 3
   },
   "file_extension": ".py",
   "mimetype": "text/x-python",
   "name": "python",
   "nbconvert_exporter": "python",
   "pygments_lexer": "ipython3",
   "version": "3.8.10"
  }
 },
 "nbformat": 4,
 "nbformat_minor": 2
}
